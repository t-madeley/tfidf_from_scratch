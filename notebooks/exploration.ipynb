{
 "cells": [
  {
   "cell_type": "markdown",
   "id": "371f2334-7de4-4def-9df4-6df2b2664100",
   "metadata": {},
   "source": [
    "# Hiscox TF-IDF From Scratch Take Home Test - Thomas Madeley\n",
    "\n",
    "**Instructions**\n",
    "\n",
    "Comprehensive instructions on how to create a suitable Conda environment to run this notebook can be found in the `readme.md`.\n",
    "\n",
    "## Task\n",
    "\n",
    "\n",
    "\n",
    "\n",
    "## TL;DR, Give Me A Brief Summary\n",
    "\n",
    "\n",
    "\n",
    "## If I Had More Time\n",
    "\n",
    "\n",
    "## Process/ Contents\n"
   ]
  },
  {
   "cell_type": "code",
   "execution_count": 2,
   "id": "a9e38084-40f7-44f4-bc65-60edb56a26e1",
   "metadata": {},
   "outputs": [],
   "source": [
    "import nltk\n",
    "import pandas as pd"
   ]
  },
  {
   "cell_type": "code",
   "execution_count": 3,
   "id": "cfa337c2-6fdc-4fed-bb59-e64c17e79ea4",
   "metadata": {},
   "outputs": [],
   "source": [
    "corpus = [ \"\"\"Once upon a time, in a faraway land, there was a brave knight named Sir Lancelot. He was known for his\n",
    "strength, courage, and chivalry. One day, the King of the land asked Sir Lancelot to rescue his daughter, who\n",
    "had been kidnapped by an evil sorcerer. Sir Lancelot set out on his quest, facing many dangers along the way.\n",
    "But he never gave up, and eventually he rescued the princess and defeated the sorcerer. The people of the land\n",
    "cheered for Sir Lancelot, and he became a legend in his own time.\"\"\",\n",
    "\n",
    "\"\"\"In a village at the foot of a mountain, there lived a poor farmer named Jack. He had a small farm and a cow,\n",
    "which was his only possession. One day, the cow stopped giving milk, and Jack didn't know what to do. So he\n",
    "decided to sell the cow at the market. On the way, he met a stranger who offered to trade five magic beans for\n",
    "the cow. Jack agreed, and when he got home, his mother was furious. But that night, the magic beans grew\n",
    "into a giant beanstalk, and Jack climbed it to find a castle in the clouds. There, he met a giant who had a goose\n",
    "that laid golden eggs. Jack stole the goose and ran down the beanstalk, but the giant followed him. Jack\n",
    "chopped down the beanstalk, and the giant fell to his death. Jack and his mother lived happily ever after with\n",
    "the golden eggs.\"\"\",\n",
    "\"\"\"In a kingdom ruled by a wicked queen, there lived a beautiful princess named Snow White. The queen was\n",
    "jealous of Snow White's beauty, and ordered a huntsman to kill her. But the huntsman couldn't do it, so he left\n",
    "Snow White in the forest. There, she met seven dwarfs who took her in and cared for her. But the queen found\n",
    "out that Snow White was still alive, and disguised herself as an old woman to give Snow White a poisoned\n",
    "apple. Snow White fell into a deep sleep, but a prince came and woke her with a kiss. They lived happily ever\n",
    "after, and the queen got what she deserved.\"\"\",\n",
    "\"\"\"In a world of magic and wonder, there was a young wizard named Harry Potter. He had been orphaned as a\n",
    "baby, and was raised by his cruel relatives. But one day, he received a letter from Hogwarts School of\n",
    "Witchcraft and Wizardry, inviting him to attend. There, he learned about his true heritage and his destiny to\n",
    "defeat the dark wizard Voldemort. Harry made many friends at Hogwarts, including Hermione Granger and\n",
    "Ron Weasley. Together, they faced many challenges and battles, but in the end, Harry was able to vanquish\n",
    "Voldemort and bring peace to the wizarding world.\"\"\",\n",
    "\"\"\"In a land of dragons and knights, there was a beautiful princess named Fiona. She had been cursed by a\n",
    "wicked sorcerer and turned into an ogre. One day, a brave knight named Shrek was sent to rescue her from a\n",
    "tower. But when he found her, he discovered that she was an ogre. They didn't get along at first, but eventually\n",
    "they fell in love. Along the way, they met many fairy tale characters, including a talking donkey and a\n",
    "gingerbread man. Together, they defeated the evil Lord Farquaad and lived happily ever after in the swamp.\"\"\"\n",
    "]"
   ]
  },
  {
   "cell_type": "code",
   "execution_count": 8,
   "id": "dadf6a92-ef4e-41c4-908b-015575a154c3",
   "metadata": {},
   "outputs": [],
   "source": [
    "# Convert the list to a pandas DataFrame\n",
    "df = pd.DataFrame({'synopsis': corpus})\n",
    "\n",
    "# Save the DataFrame to a Parquet file\n",
    "df.to_parquet('corpus.parquet', index=False)"
   ]
  },
  {
   "cell_type": "code",
   "execution_count": 13,
   "id": "881a450a-443f-4ca7-a1b1-f044f01713b4",
   "metadata": {},
   "outputs": [],
   "source": [
    "docs = pd.read_parquet(\"corpus.parquet\")['synopsis'].tolist()"
   ]
  },
  {
   "cell_type": "code",
   "execution_count": 14,
   "id": "f601efdd-3968-45b3-b2ea-3580989da2c9",
   "metadata": {},
   "outputs": [
    {
     "name": "stdout",
     "output_type": "stream",
     "text": [
      "Once upon a time, in a faraway land, there was a brave knight named Sir Lancelot. He was known for his\n",
      "strength, courage, and chivalry. One day, the King of the land asked Sir Lancelot to rescue his daughter, who\n",
      "had been kidnapped by an evil sorcerer. Sir Lancelot set out on his quest, facing many dangers along the way.\n",
      "But he never gave up, and eventually he rescued the princess and defeated the sorcerer. The people of the land\n",
      "cheered for Sir Lancelot, and he became a legend in his own time.\n",
      "In a village at the foot of a mountain, there lived a poor farmer named Jack. He had a small farm and a cow,\n",
      "which was his only possession. One day, the cow stopped giving milk, and Jack didn't know what to do. So he\n",
      "decided to sell the cow at the market. On the way, he met a stranger who offered to trade five magic beans for\n",
      "the cow. Jack agreed, and when he got home, his mother was furious. But that night, the magic beans grew\n",
      "into a giant beanstalk, and Jack climbed it to find a castle in the clouds. There, he met a giant who had a goose\n",
      "that laid golden eggs. Jack stole the goose and ran down the beanstalk, but the giant followed him. Jack\n",
      "chopped down the beanstalk, and the giant fell to his death. Jack and his mother lived happily ever after with\n",
      "the golden eggs.\n",
      "In a kingdom ruled by a wicked queen, there lived a beautiful princess named Snow White. The queen was\n",
      "jealous of Snow White's beauty, and ordered a huntsman to kill her. But the huntsman couldn't do it, so he left\n",
      "Snow White in the forest. There, she met seven dwarfs who took her in and cared for her. But the queen found\n",
      "out that Snow White was still alive, and disguised herself as an old woman to give Snow White a poisoned\n",
      "apple. Snow White fell into a deep sleep, but a prince came and woke her with a kiss. They lived happily ever\n",
      "after, and the queen got what she deserved.\n",
      "In a world of magic and wonder, there was a young wizard named Harry Potter. He had been orphaned as a\n",
      "baby, and was raised by his cruel relatives. But one day, he received a letter from Hogwarts School of\n",
      "Witchcraft and Wizardry, inviting him to attend. There, he learned about his true heritage and his destiny to\n",
      "defeat the dark wizard Voldemort. Harry made many friends at Hogwarts, including Hermione Granger and\n",
      "Ron Weasley. Together, they faced many challenges and battles, but in the end, Harry was able to vanquish\n",
      "Voldemort and bring peace to the wizarding world.\n",
      "In a land of dragons and knights, there was a beautiful princess named Fiona. She had been cursed by a\n",
      "wicked sorcerer and turned into an ogre. One day, a brave knight named Shrek was sent to rescue her from a\n",
      "tower. But when he found her, he discovered that she was an ogre. They didn't get along at first, but eventually\n",
      "they fell in love. Along the way, they met many fairy tale characters, including a talking donkey and a\n",
      "gingerbread man. Together, they defeated the evil Lord Farquaad and lived happily ever after in the swamp.\n"
     ]
    }
   ],
   "source": [
    "for doc in docs:\n",
    "    print(doc)"
   ]
  },
  {
   "cell_type": "code",
   "execution_count": null,
   "id": "aab210cd-9deb-481f-bacf-c42cd5308145",
   "metadata": {},
   "outputs": [],
   "source": []
  }
 ],
 "metadata": {
  "kernelspec": {
   "display_name": "hiscox_tfidf",
   "language": "python",
   "name": "hiscox_tfidf"
  },
  "language_info": {
   "codemirror_mode": {
    "name": "ipython",
    "version": 3
   },
   "file_extension": ".py",
   "mimetype": "text/x-python",
   "name": "python",
   "nbconvert_exporter": "python",
   "pygments_lexer": "ipython3",
   "version": "3.11.9"
  }
 },
 "nbformat": 4,
 "nbformat_minor": 5
}
