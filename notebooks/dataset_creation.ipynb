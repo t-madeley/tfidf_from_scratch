{
 "cells": [
  {
   "cell_type": "markdown",
   "id": "371f2334-7de4-4def-9df4-6df2b2664100",
   "metadata": {},
   "source": [
    "# Hiscox TF-IDF From Scratch Take Home Test - Thomas Madeley\n",
    "\n",
    "**Instructions**\n",
    "\n",
    "Comprehensive instructions on how to create a suitable Conda environment to run this notebook can be found in the `readme.md`.\n",
    "\n",
    "## Task\n",
    "\n",
    "\n",
    "\n",
    "\n",
    "## TL;DR, Give Me A Brief Summary\n",
    "\n",
    "\n",
    "\n",
    "## If I Had More Time\n",
    "\n",
    "\n",
    "## Process/ Contents\n",
    "1. Dataset Creation"
   ]
  },
  {
   "cell_type": "code",
   "execution_count": 1,
   "id": "a9e38084-40f7-44f4-bc65-60edb56a26e1",
   "metadata": {},
   "outputs": [],
   "source": [
    "import nltk\n",
    "import pandas as pd"
   ]
  },
  {
   "cell_type": "code",
   "execution_count": 2,
   "id": "e52e42c8-2159-471e-98d8-f825fae475ca",
   "metadata": {},
   "outputs": [
    {
     "name": "stdout",
     "output_type": "stream",
     "text": [
      "/Users/tmadeley/Documents/hiscox_tfidf\n"
     ]
    },
    {
     "name": "stderr",
     "output_type": "stream",
     "text": [
      "/Users/tmadeley/miniconda3/envs/hiscox_tfidf/lib/python3.11/site-packages/IPython/core/magics/osm.py:417: UserWarning: This is now an optional IPython functionality, setting dhist requires you to install the `pickleshare` library.\n",
      "  self.shell.db['dhist'] = compress_dhist(dhist)[-100:]\n"
     ]
    }
   ],
   "source": [
    "# Navigate up one directory with a magic command..\n",
    "%cd .."
   ]
  },
  {
   "cell_type": "markdown",
   "id": "e5dc028e-fb99-4c1c-970b-0782a78fca9d",
   "metadata": {},
   "source": [
    "# Dataset Creation\n",
    "\n",
    "- I first decided to take the messy/free text from the brief and create a dataset.\n",
    "    - This is just cleaner than having a long list of strings floating around\n",
    "    - If we were to scale the solution, we would need a proper dataset format anyway \n",
    "- I assigned some titles, it's obvious what these synopses are from the contents. In practice, we may not have this and may just have some unique ID - This will just help us ID the synopses later. "
   ]
  },
  {
   "cell_type": "markdown",
   "id": "8b91a588-0552-4e64-8b67-2dfab040c06d",
   "metadata": {},
   "source": [
    "## Formatting the text"
   ]
  },
  {
   "cell_type": "code",
   "execution_count": 7,
   "id": "f8703094-55e1-45a9-802c-838a2ef50010",
   "metadata": {},
   "outputs": [],
   "source": [
    "# Corpus Taken Directly From Brief\n",
    "corpus = [\n",
    "    \"\"\"Once upon a time, in a faraway land, there was a brave knight named Sir Lancelot. He was known for his\n",
    "strength, courage, and chivalry. One day, the King of the land asked Sir Lancelot to rescue his daughter, who\n",
    "had been kidnapped by an evil sorcerer. Sir Lancelot set out on his quest, facing many dangers along the way.\n",
    "But he never gave up, and eventually he rescued the princess and defeated the sorcerer. The people of the land\n",
    "cheered for Sir Lancelot, and he became a legend in his own time.\"\"\",\n",
    "    \n",
    "    \"\"\"In a village at the foot of a mountain, there lived a poor farmer named Jack. He had a small farm and a cow,\n",
    "which was his only possession. One day, the cow stopped giving milk, and Jack didn't know what to do. So he\n",
    "decided to sell the cow at the market. On the way, he met a stranger who offered to trade five magic beans for\n",
    "the cow. Jack agreed, and when he got home, his mother was furious. But that night, the magic beans grew\n",
    "into a giant beanstalk, and Jack climbed it to find a castle in the clouds. There, he met a giant who had a goose\n",
    "that laid golden eggs. Jack stole the goose and ran down the beanstalk, but the giant followed him. Jack\n",
    "chopped down the beanstalk, and the giant fell to his death. Jack and his mother lived happily ever after with\n",
    "the golden eggs.\"\"\",\n",
    "    \n",
    "    \"\"\"In a kingdom ruled by a wicked queen, there lived a beautiful princess named Snow White. The queen was\n",
    "jealous of Snow White's beauty, and ordered a huntsman to kill her. But the huntsman couldn't do it, so he left\n",
    "Snow White in the forest. There, she met seven dwarfs who took her in and cared for her. But the queen found\n",
    "out that Snow White was still alive, and disguised herself as an old woman to give Snow White a poisoned\n",
    "apple. Snow White fell into a deep sleep, but a prince came and woke her with a kiss. They lived happily ever\n",
    "after, and the queen got what she deserved.\"\"\",\n",
    "    \n",
    "    \"\"\"In a world of magic and wonder, there was a young wizard named Harry Potter. He had been orphaned as a\n",
    "baby, and was raised by his cruel relatives. But one day, he received a letter from Hogwarts School of\n",
    "Witchcraft and Wizardry, inviting him to attend. There, he learned about his true heritage and his destiny to\n",
    "defeat the dark wizard Voldemort. Harry made many friends at Hogwarts, including Hermione Granger and\n",
    "Ron Weasley. Together, they faced many challenges and battles, but in the end, Harry was able to vanquish\n",
    "Voldemort and bring peace to the wizarding world.\"\"\",\n",
    "    \n",
    "    \"\"\"In a land of dragons and knights, there was a beautiful princess named Fiona. She had been cursed by a\n",
    "wicked sorcerer and turned into an ogre. One day, a brave knight named Shrek was sent to rescue her from a\n",
    "tower. But when he found her, he discovered that she was an ogre. They didn't get along at first, but eventually\n",
    "they fell in love. Along the way, they met many fairy tale characters, including a talking donkey and a\n",
    "gingerbread man. Together, they defeated the evil Lord Farquaad and lived happily ever after in the swamp.\"\"\"\n",
    "]\n",
    "\n",
    "# Let's assign some titles to label the documents\n",
    "titles = [\n",
    "    \"Sir Lancelot\",\n",
    "    \"Jack and the Beanstalk\",\n",
    "    \"Snow White\",\n",
    "    \"Harry Potter\",\n",
    "    \"Shrek\"\n",
    "]\n"
   ]
  },
  {
   "cell_type": "markdown",
   "id": "9f4ddc80-ace3-4aed-8ad6-53ef9fda6621",
   "metadata": {},
   "source": [
    "## Saving to Parquet\n",
    "\n",
    "- I created a list of dictionaries and convert into a pandas dataframe\n",
    "- I save to parquet with pandas using the pyarrow engine as it has efficient string compression.  "
   ]
  },
  {
   "cell_type": "code",
   "execution_count": 8,
   "id": "aafa3466-addd-4af6-b768-6876caee560d",
   "metadata": {},
   "outputs": [],
   "source": [
    "assert len(titles) == len(corpus), \"Titles and contents lists must be of the same length\"\n",
    "\n",
    "# Generate the list of dictionaries\n",
    "data = [{\"title\": title, \"synopsis\": content} for title, content in zip(titles, corpus)]\n"
   ]
  },
  {
   "cell_type": "code",
   "execution_count": 9,
   "id": "cfa337c2-6fdc-4fed-bb59-e64c17e79ea4",
   "metadata": {},
   "outputs": [],
   "source": [
    "df = pd.DataFrame(data)\n",
    "df.to_parquet('data/documents.parquet', engine='pyarrow')"
   ]
  },
  {
   "cell_type": "code",
   "execution_count": 10,
   "id": "dadf6a92-ef4e-41c4-908b-015575a154c3",
   "metadata": {},
   "outputs": [
    {
     "data": {
      "text/html": [
       "<div>\n",
       "<style scoped>\n",
       "    .dataframe tbody tr th:only-of-type {\n",
       "        vertical-align: middle;\n",
       "    }\n",
       "\n",
       "    .dataframe tbody tr th {\n",
       "        vertical-align: top;\n",
       "    }\n",
       "\n",
       "    .dataframe thead th {\n",
       "        text-align: right;\n",
       "    }\n",
       "</style>\n",
       "<table border=\"1\" class=\"dataframe\">\n",
       "  <thead>\n",
       "    <tr style=\"text-align: right;\">\n",
       "      <th></th>\n",
       "      <th>title</th>\n",
       "      <th>synopsis</th>\n",
       "    </tr>\n",
       "  </thead>\n",
       "  <tbody>\n",
       "    <tr>\n",
       "      <th>0</th>\n",
       "      <td>Sir Lancelot</td>\n",
       "      <td>Once upon a time, in a faraway land, there was...</td>\n",
       "    </tr>\n",
       "    <tr>\n",
       "      <th>1</th>\n",
       "      <td>Jack and the Beanstalk</td>\n",
       "      <td>In a village at the foot of a mountain, there ...</td>\n",
       "    </tr>\n",
       "    <tr>\n",
       "      <th>2</th>\n",
       "      <td>Snow White</td>\n",
       "      <td>In a kingdom ruled by a wicked queen, there li...</td>\n",
       "    </tr>\n",
       "    <tr>\n",
       "      <th>3</th>\n",
       "      <td>Harry Potter</td>\n",
       "      <td>In a world of magic and wonder, there was a yo...</td>\n",
       "    </tr>\n",
       "    <tr>\n",
       "      <th>4</th>\n",
       "      <td>Shrek</td>\n",
       "      <td>In a land of dragons and knights, there was a ...</td>\n",
       "    </tr>\n",
       "  </tbody>\n",
       "</table>\n",
       "</div>"
      ],
      "text/plain": [
       "                    title                                           synopsis\n",
       "0            Sir Lancelot  Once upon a time, in a faraway land, there was...\n",
       "1  Jack and the Beanstalk  In a village at the foot of a mountain, there ...\n",
       "2              Snow White  In a kingdom ruled by a wicked queen, there li...\n",
       "3            Harry Potter  In a world of magic and wonder, there was a yo...\n",
       "4                   Shrek  In a land of dragons and knights, there was a ..."
      ]
     },
     "execution_count": 10,
     "metadata": {},
     "output_type": "execute_result"
    }
   ],
   "source": [
    "# Checking over the data\n",
    "df.head()"
   ]
  },
  {
   "cell_type": "code",
   "execution_count": null,
   "id": "d9542caa-f518-4a18-8c58-b765275f5d19",
   "metadata": {},
   "outputs": [],
   "source": []
  }
 ],
 "metadata": {
  "kernelspec": {
   "display_name": "hiscox_tfidf",
   "language": "python",
   "name": "hiscox_tfidf"
  },
  "language_info": {
   "codemirror_mode": {
    "name": "ipython",
    "version": 3
   },
   "file_extension": ".py",
   "mimetype": "text/x-python",
   "name": "python",
   "nbconvert_exporter": "python",
   "pygments_lexer": "ipython3",
   "version": "3.11.9"
  }
 },
 "nbformat": 4,
 "nbformat_minor": 5
}
